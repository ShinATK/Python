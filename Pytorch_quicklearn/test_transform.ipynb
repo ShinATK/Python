{
 "cells": [
  {
   "cell_type": "code",
   "execution_count": null,
   "id": "26f5d855-e651-414a-803b-9c377d1ef56c",
   "metadata": {},
   "outputs": [],
   "source": [
    "from torchvision import transform"
   ]
  }
 ],
 "metadata": {
  "kernelspec": {
   "display_name": "Python 3 (ipykernel)",
   "language": "python",
   "name": "python3"
  },
  "language_info": {
   "codemirror_mode": {
    "name": "ipython",
    "version": 3
   },
   "file_extension": ".py",
   "mimetype": "text/x-python",
   "name": "python",
   "nbconvert_exporter": "python",
   "pygments_lexer": "ipython3",
   "version": "3.10.13"
  }
 },
 "nbformat": 4,
 "nbformat_minor": 5
}
