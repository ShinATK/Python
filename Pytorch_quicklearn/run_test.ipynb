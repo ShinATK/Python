{
 "cells": [
  {
   "cell_type": "code",
   "execution_count": 4,
   "id": "d103b2ab-c83f-4c08-b84f-e9b26f05064c",
   "metadata": {},
   "outputs": [
    {
     "name": "stdout",
     "output_type": "stream",
     "text": [
      "<class 'numpy.ndarray'>\n",
      "(512, 768, 3)\n"
     ]
    }
   ],
   "source": [
    "# Tensorboard\n",
    "%run test_tb.py"
   ]
  },
  {
   "cell_type": "code",
   "execution_count": null,
   "id": "017c8b39-0534-4645-8543-6997f8201d66",
   "metadata": {},
   "outputs": [],
   "source": []
  }
 ],
 "metadata": {
  "kernelspec": {
   "display_name": "Python 3 (ipykernel)",
   "language": "python",
   "name": "python3"
  },
  "language_info": {
   "codemirror_mode": {
    "name": "ipython",
    "version": 3
   },
   "file_extension": ".py",
   "mimetype": "text/x-python",
   "name": "python",
   "nbconvert_exporter": "python",
   "pygments_lexer": "ipython3",
   "version": "3.10.13"
  }
 },
 "nbformat": 4,
 "nbformat_minor": 5
}
