{
 "cells": [
  {
   "cell_type": "code",
   "execution_count": 1,
   "id": "ebd14320-9bf0-4bba-8faa-915a14522f80",
   "metadata": {},
   "outputs": [],
   "source": [
    "# 3.3.1.生成数据集\n",
    "import numpy as np\n",
    "import torch\n",
    "from torch.utils import data\n",
    "from d2l import torch as d2l\n",
    "\n",
    "true_w = torch.tensor([2, -3.4])\n",
    "true_b = 4.2\n",
    "features, labels = d2l.synthetic_data(true_w, true_b, 1000)"
   ]
  },
  {
   "cell_type": "code",
   "execution_count": 2,
   "id": "d2821191-a152-4467-b80d-e43cf199984e",
   "metadata": {},
   "outputs": [],
   "source": [
    "# 3.3.2 读取数据集\n",
    "def load_array(data_arrays, batch_size, is_train=True):\n",
    "    \"\"\"构造一个Pytorch数据迭代器\"\"\"\n",
    "    dataset = data.TensorDataset(*data_arrays)\n",
    "    return data.DataLoader(dataset, batch_size, shuffle=is_train)\n",
    "batch_size = 10\n",
    "data_iter = load_array((features, labels), batch_size)"
   ]
  },
  {
   "cell_type": "code",
   "execution_count": 3,
   "id": "aee3092a-76c6-49b3-93a6-aa0463283511",
   "metadata": {},
   "outputs": [
    {
     "data": {
      "text/plain": [
       "[tensor([[ 0.1338,  0.1227],\n",
       "         [ 0.4473,  0.9130],\n",
       "         [ 0.6360,  0.5050],\n",
       "         [-1.1826, -0.8409],\n",
       "         [ 1.5986,  0.0192],\n",
       "         [-0.3270, -1.8781],\n",
       "         [-0.0077,  0.1874],\n",
       "         [-0.8730,  1.0078],\n",
       "         [ 0.2724,  0.3253],\n",
       "         [ 0.3095,  0.2103]]),\n",
       " tensor([[ 4.0247],\n",
       "         [ 1.9948],\n",
       "         [ 3.7696],\n",
       "         [ 4.6727],\n",
       "         [ 7.3392],\n",
       "         [ 9.9464],\n",
       "         [ 3.5406],\n",
       "         [-0.9780],\n",
       "         [ 3.6407],\n",
       "         [ 4.1039]])]"
      ]
     },
     "execution_count": 3,
     "metadata": {},
     "output_type": "execute_result"
    }
   ],
   "source": [
    "next(iter(data_iter))"
   ]
  },
  {
   "cell_type": "code",
   "execution_count": null,
   "id": "e7bb698a-af0c-418c-b090-27e44c685773",
   "metadata": {},
   "outputs": [],
   "source": [
    "# 3.3.3.定义模型\n"
   ]
  }
 ],
 "metadata": {
  "kernelspec": {
   "display_name": "Python 3 (ipykernel)",
   "language": "python",
   "name": "python3"
  },
  "language_info": {
   "codemirror_mode": {
    "name": "ipython",
    "version": 3
   },
   "file_extension": ".py",
   "mimetype": "text/x-python",
   "name": "python",
   "nbconvert_exporter": "python",
   "pygments_lexer": "ipython3",
   "version": "3.11.5"
  }
 },
 "nbformat": 4,
 "nbformat_minor": 5
}
