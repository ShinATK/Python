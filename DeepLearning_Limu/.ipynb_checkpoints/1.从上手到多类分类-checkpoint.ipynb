{
 "cells": [
  {
   "cell_type": "markdown",
   "id": "87c8ef9a",
   "metadata": {},
   "source": [
    "<strong>通过动手实现来理解深度学习</strong>\n",
    "\n",
    "跟工业界应用相比，主要是数据规模和模型复杂度的区别\n",
    "\n",
    "本课程使用<em>MXNet/Gluon</em>来教学\n",
    "\n",
    "- 深度学习的轮子\n",
    "    - 便利的开发：Pytorch、mxnet、Keras、Chainer\n",
    "    - 方便的部署：Caffe、TensorFlow\n",
    "\n",
    "<strong>GLUON</strong>：一次解决开发和部署"
   ]
  },
  {
   "cell_type": "markdown",
   "id": "0f98ea82",
   "metadata": {},
   "source": [
    "**课程安排**：\n",
    "- **深度学习基础**\n",
    "    - 线性模型\n",
    "    - CNN\n",
    "    - RNN\n",
    "    - 求导、训练\n",
    "- **Gluon最佳实践**\n",
    "    - hybridize\n",
    "    - 自动并行\n",
    "    - 多卡训练\n",
    "- **计算机视觉**\n",
    "    - Resnet\n",
    "    - SSD\n",
    "- **自然语言处理**\n",
    "    - word embedding\n",
    "    - seq2seq\n",
    "- **增强学习**：ALpha Go\n",
    "- **对抗网络**：GAN\n",
    "- **推荐系统**："
   ]
  },
  {
   "cell_type": "code",
   "execution_count": null,
   "id": "5ccf90f4",
   "metadata": {},
   "outputs": [],
   "source": []
  }
 ],
 "metadata": {
  "kernelspec": {
   "display_name": "Python 3 (ipykernel)",
   "language": "python",
   "name": "python3"
  },
  "language_info": {
   "codemirror_mode": {
    "name": "ipython",
    "version": 3
   },
   "file_extension": ".py",
   "mimetype": "text/x-python",
   "name": "python",
   "nbconvert_exporter": "python",
   "pygments_lexer": "ipython3",
   "version": "3.9.12"
  }
 },
 "nbformat": 4,
 "nbformat_minor": 5
}
