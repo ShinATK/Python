{
 "cells": [
  {
   "cell_type": "markdown",
   "id": "7093801b-16be-4af2-9246-94c5dbd6effc",
   "metadata": {},
   "source": [
    "## 6.3. 填充和步幅\n",
    "\n",
    "卷积的输出形状$(n_h-k_h+1)\\times(n_w-k_w+1)$取决于输入形状$n_h \\times n_w$和卷积核的形状$k_h \\times k_w$\n",
    "\n",
    "还有什么因素会影响输出的大小呢？\n",
    "- 填充 padding\n",
    "- 步幅 stride\n",
    "\n",
    "**为了与torch.nn的Conv2d中参数padding大小一致，这里我个人选择统一按照Conv2d的参数书写即p为单边填充数**"
   ]
  },
  {
   "cell_type": "markdown",
   "id": "ee743b89-fd22-4bc4-930e-a3590fdaafdc",
   "metadata": {},
   "source": [
    "### 6.3.1. 填充\n",
    "\n",
    "随着我们应用许多连续卷积层，累积丢失的像素数就多了。解决方案：**填充 padding**，在输入图像的边界填充元素（通常填充元素是$0$）\r\n",
    "行填充$2*p_h$（一半顶一半底），列填充$2*p_w$（一半左一半右），输出形状为：$$(n_h-k_h+2*p_h+1) \\times (n_w-k_w+2*p_w+1)$$，输出高度和宽度分别增加$2*p_h$和$2*p_w$。\n",
    "\n",
    "一般情况下，$2*p_h = k_h-1, \\ 2*p_w=k_w-1$\n",
    "\n",
    "**注：原文中这里的$p$代表的是顶+底，或左+右的填充数之和，而在torch.nn中的Conv2d中的padding参数代表是单个边的填充个数，即padding * 2 = p。个人笔记这里已经统一为conv2d中的padding大小。**\n",
    "\n",
    "卷积神经网络中**卷积核的高度和宽度通常为奇数**，如1、3、5、7。好处是，**保持空间维度**+**可以在上下左右填充数量对应相同**\n",
    "\n",
    "当满足以下条件：\n",
    " 1. 卷积核的大小是奇数；\n",
    " 2. 所有边的填充行数和列数相同；\n",
    " 3. 输出与输入具有相同高度和宽度\n",
    "\n",
    "则可以得出：输出$Y[i, j]$是通过以输入$X[i, j]$为中心，与卷积核进行互相关计算得到的。\n"
   ]
  },
  {
   "cell_type": "code",
   "execution_count": 2,
   "id": "c95586b5-9b43-4050-b91f-9c17ea2e9e9f",
   "metadata": {},
   "outputs": [
    {
     "data": {
      "text/plain": [
       "torch.Size([8, 8])"
      ]
     },
     "execution_count": 2,
     "metadata": {},
     "output_type": "execute_result"
    }
   ],
   "source": [
    "import torch\n",
    "from torch import nn\n",
    "\n",
    "def comp_conv2d(conv2d, X):\n",
    "    X = X.reshape((1, 1) + X.shape)\n",
    "    Y = conv2d(X)\n",
    "    return Y.reshape(Y.shape[2:])\n",
    "\n",
    "# 每边都填充了1行或1列，因此总共添加了2行或2列\n",
    "conv2d = nn.Conv2d(1, 1, kernel_size=3, padding=1)\n",
    "X = torch.rand(size=(8,8))\n",
    "comp_conv2d(conv2d, X).shape"
   ]
  },
  {
   "cell_type": "code",
   "execution_count": 3,
   "id": "f54f2054-6d44-4d35-a405-554a815b08cd",
   "metadata": {},
   "outputs": [
    {
     "data": {
      "text/plain": [
       "torch.Size([8, 8])"
      ]
     },
     "execution_count": 3,
     "metadata": {},
     "output_type": "execute_result"
    }
   ],
   "source": [
    "# 使用高度为5，宽度为3的卷积核，高度和宽度两边的填充分别为2和1\n",
    "conv2d = nn.Conv2d(1, 1, kernel_size=(5, 3), padding=(2, 1))\n",
    "comp_conv2d(conv2d, X).shape"
   ]
  },
  {
   "cell_type": "markdown",
   "id": "b1deafd0-126d-429f-8d8f-2a3cfbc65b47",
   "metadata": {},
   "source": [
    "### 6.3.2. 步幅\n",
    "\n",
    "有时候为了高效计算或是缩减采样次数，卷积窗口可以跳过中间位置，每次滑动多个元素\n",
    "\n",
    "每次滑动元素的数量称为**步幅 stride**\n",
    "\n",
    "垂直步幅为$s_h$，水平步幅为$s_w$时，输出形状：\n",
    "\n",
    "$$"
   ]
  }
 ],
 "metadata": {
  "kernelspec": {
   "display_name": "Python 3 (ipykernel)",
   "language": "python",
   "name": "python3"
  },
  "language_info": {
   "codemirror_mode": {
    "name": "ipython",
    "version": 3
   },
   "file_extension": ".py",
   "mimetype": "text/x-python",
   "name": "python",
   "nbconvert_exporter": "python",
   "pygments_lexer": "ipython3",
   "version": "3.10.13"
  }
 },
 "nbformat": 4,
 "nbformat_minor": 5
}
